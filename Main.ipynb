{
 "cells": [
  {
   "cell_type": "code",
   "execution_count": 117,
   "metadata": {},
   "outputs": [],
   "source": [
    "import csv"
   ]
  },
  {
   "cell_type": "code",
   "execution_count": 118,
   "metadata": {},
   "outputs": [],
   "source": [
    "month_list = []\n",
    "pnl_list = []"
   ]
  },
  {
   "cell_type": "code",
   "execution_count": 119,
   "metadata": {},
   "outputs": [],
   "source": [
    "with open('/Users/dallasgold/Downloads/budget_data.csv', newline='') as csvfile:\n",
    "    reader = csv.DictReader(csvfile)\n",
    "    for row in reader:\n",
    "        month_list.append(row['Date'])\n",
    "        pnl_list.append(row['Profit/Losses'])"
   ]
  },
  {
   "cell_type": "code",
   "execution_count": 120,
   "metadata": {},
   "outputs": [],
   "source": [
    "num_months = len(month_list)"
   ]
  },
  {
   "cell_type": "code",
   "execution_count": 121,
   "metadata": {},
   "outputs": [],
   "source": [
    "total_pnl = 0\n",
    "for monthly_total in pnl_list:\n",
    "    total_pnl = total_pnl + int(monthly_total)    "
   ]
  },
  {
   "cell_type": "code",
   "execution_count": 122,
   "metadata": {},
   "outputs": [],
   "source": [
    "avg_change = 0\n",
    "diff_list = []\n",
    "for x in range(85):\n",
    "    temp = int(pnl_list[x + 1]) - int(pnl_list[x])\n",
    "    diff_list.append(temp)\n",
    "avg_diff = str(round(sum(diff_list)/len(diff_list),2))"
   ]
  },
  {
   "cell_type": "code",
   "execution_count": 123,
   "metadata": {},
   "outputs": [],
   "source": [
    "max_pnl = max(diff_list)\n",
    "min_pnl = min(diff_list)\n",
    "for y in range(85):\n",
    "    if diff_list[y] == max_pnl:\n",
    "        max_mth = month_list[y+1]\n",
    "    if diff_list[y] == min_pnl:\n",
    "        min_mth = month_list[y+1]"
   ]
  },
  {
   "cell_type": "code",
   "execution_count": 124,
   "metadata": {},
   "outputs": [
    {
     "name": "stdout",
     "output_type": "stream",
     "text": [
      "Financial Analysis\n",
      "-------------------------------\n",
      "Total Months: 86\n",
      "Total: $38382578\n",
      "Average Change: $-2315.12\n",
      "Greatest Increase in Profits: Feb-2012 (1926159)\n",
      "Greatest Decrease in Profits: Sep-2013 (-2196167)\n"
     ]
    }
   ],
   "source": [
    "print(\"Financial Analysis\")\n",
    "print('-------------------------------')\n",
    "print(f'Total Months: {num_months}')\n",
    "print(f'Total: ${total_pnl}')\n",
    "print(f'Average Change: ${avg_diff}')\n",
    "print(f'Greatest Increase in Profits: {max_mth} ({max_pnl})')\n",
    "print(f'Greatest Decrease in Profits: {min_mth} ({min_pnl})')"
   ]
  },
  {
   "cell_type": "markdown",
   "metadata": {},
   "source": [
    "<H1> PyRamen"
   ]
  },
  {
   "cell_type": "code",
   "execution_count": 112,
   "metadata": {},
   "outputs": [],
   "source": [
    "# sales data lists\n",
    "line_id_list = []\n",
    "date_list = []\n",
    "cc_num_list = []\n",
    "qty_list = []\n",
    "menu_item_list = []\n",
    "sales_list = []\n",
    "\n",
    "# memu items lists\n",
    "name_list = []\n",
    "category_list = []\n",
    "descr_list = []\n",
    "price_list = []\n",
    "cost_list = []\n",
    "menu_list = []"
   ]
  },
  {
   "cell_type": "code",
   "execution_count": 114,
   "metadata": {},
   "outputs": [],
   "source": [
    "with open('/Users/dallasgold/Downloads/sales_data.csv', newline='') as csvfile:\n",
    "    ramen_reader = csv.DictReader(csvfile)\n",
    "    for row in ramen_reader:\n",
    "        sales_list.append(row)\n",
    "        line_id_list.append(row['Line_Item_ID'])\n",
    "        date_list.append(row['Date'])\n",
    "        cc_num_list.append(row['Credit_Card_Number'])\n",
    "        qty_list.append(row['Quantity'])\n",
    "        menu_item_list.append(row['Menu_Item'])\n",
    "       "
   ]
  },
  {
   "cell_type": "code",
   "execution_count": 113,
   "metadata": {},
   "outputs": [],
   "source": [
    "with open('/Users/dallasgold/Downloads/menu_data.csv', newline='') as csvfile:\n",
    "    menu_reader = csv.DictReader(csvfile)\n",
    "    for row in menu_reader:\n",
    "        menu_list.append(row)\n",
    "        name_list.append(row['item'])\n",
    "        category_list.append(row['category'])\n",
    "        descr_list.append(row['description'])\n",
    "        price_list.append(row['price'])\n",
    "        cost_list.append(row['cost'])"
   ]
  },
  {
   "cell_type": "code",
   "execution_count": 115,
   "metadata": {},
   "outputs": [],
   "source": [
    "report_dict = {}"
   ]
  },
  {
   "cell_type": "code",
   "execution_count": null,
   "metadata": {},
   "outputs": [],
   "source": []
  },
  {
   "cell_type": "code",
   "execution_count": null,
   "metadata": {},
   "outputs": [],
   "source": []
  }
 ],
 "metadata": {
  "kernelspec": {
   "display_name": "Python 3",
   "language": "python",
   "name": "python3"
  },
  "language_info": {
   "codemirror_mode": {
    "name": "ipython",
    "version": 3
   },
   "file_extension": ".py",
   "mimetype": "text/x-python",
   "name": "python",
   "nbconvert_exporter": "python",
   "pygments_lexer": "ipython3",
   "version": "3.8.5"
  }
 },
 "nbformat": 4,
 "nbformat_minor": 4
}
